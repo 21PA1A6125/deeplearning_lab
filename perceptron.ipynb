{
  "nbformat": 4,
  "nbformat_minor": 0,
  "metadata": {
    "colab": {
      "provenance": []
    },
    "kernelspec": {
      "name": "python3",
      "display_name": "Python 3"
    },
    "language_info": {
      "name": "python"
    }
  },
  "cells": [
    {
      "cell_type": "code",
      "execution_count": 1,
      "metadata": {
        "id": "lQWluSlKG9tp"
      },
      "outputs": [],
      "source": [
        "import numpy as np\n",
        "import math"
      ]
    },
    {
      "cell_type": "code",
      "source": [
        "def stepFunction(t):\n",
        "  if(t>=0):\n",
        "    return 1\n",
        "  else:\n",
        "    return -1\n"
      ],
      "metadata": {
        "id": "fUIlSDFJHdC2"
      },
      "execution_count": 4,
      "outputs": []
    },
    {
      "cell_type": "code",
      "source": [
        "def prediction(X, W, b):\n",
        "    return stepFunction((np.matmul(X,W)+b)[0])\n"
      ],
      "metadata": {
        "id": "eNKLv7K4H4ii"
      },
      "execution_count": 5,
      "outputs": []
    },
    {
      "cell_type": "code",
      "source": [
        "def perceptronStep(X, y, W, b, learn_rate = 0.01):\n",
        "\n",
        "    for i in range(len(X)):\n",
        "        yhat = prediction(X[i], W, b)\n",
        "        if y[i]-yhat == 1:\n",
        "            W[0] += X[i][0]*learn_rate\n",
        "            W[1] += X[i][1]*learn_rate\n",
        "            b += learn_rate\n",
        "        elif y[i]-yhat == -1:\n",
        "            W[0] -= X[i][0]*learn_rate\n",
        "            W[1] -= X[i][1]*learn_rate\n",
        "            b -= learn_rate\n",
        "    return W, b"
      ],
      "metadata": {
        "id": "hSWCyITJMYR3"
      },
      "execution_count": 6,
      "outputs": []
    },
    {
      "cell_type": "code",
      "source": [
        "def trainPerceptronAlgorithm(X, y, learn_rate = 0.01, num_epochs = 25):\n",
        "    x_min, x_max = min(X.T[0]), max(X.T[0])\n",
        "    y_min, y_max = min(X.T[1]), max(X.T[1])\n",
        "    W = np.array(np.random.rand(2,1))\n",
        "    b = np.random.rand(1)[0] + x_max\n",
        "    # These are the solution lines that get plotted below.\n",
        "    boundary_lines = []\n",
        "    for i in range(num_epochs):\n",
        "        # In each epoch, we apply the perceptron step.\n",
        "        W, b = perceptronStep(X, y, W, b, learn_rate)\n",
        "        boundary_lines.append((-W[0]/W[1], -b/W[1]))\n",
        "    return boundary_lines\n"
      ],
      "metadata": {
        "id": "wA-qX13mMlDO"
      },
      "execution_count": 7,
      "outputs": []
    },
    {
      "cell_type": "code",
      "source": [
        "X = np.array([\n",
        "    [2, 3],\n",
        "    [1, 4],\n",
        "    [4, 6],\n",
        "    [5, 2],\n",
        "    [3, 5]\n",
        "])\n"
      ],
      "metadata": {
        "id": "qsEFsHhrOAaZ"
      },
      "execution_count": 8,
      "outputs": []
    },
    {
      "cell_type": "code",
      "source": [
        "y = np.array([1, 0, 1, 0, 1])\n",
        "\n",
        "# Call the trainPerceptronAlgorithm function\n",
        "learn_rate = 0.01\n",
        "num_epochs = 25\n",
        "boundary_lines = trainPerceptronAlgorithm(X, y, learn_rate, num_epochs)\n"
      ],
      "metadata": {
        "id": "kReJIbotOBDi"
      },
      "execution_count": 9,
      "outputs": []
    },
    {
      "cell_type": "code",
      "source": [
        "for i, line in enumerate(boundary_lines):\n",
        "    print(f'Epoch {i+1}: Decision Boundary Line - {line}')"
      ],
      "metadata": {
        "colab": {
          "base_uri": "https://localhost:8080/"
        },
        "id": "ljaZh0KTOFdx",
        "outputId": "f935df41-896e-41cf-ff87-1d7b2b717108"
      },
      "execution_count": 10,
      "outputs": [
        {
          "output_type": "stream",
          "name": "stdout",
          "text": [
            "Epoch 1: Decision Boundary Line - (array([0.0473078]), array([-15.69825049]))\n",
            "Epoch 2: Decision Boundary Line - (array([0.24974739]), array([-18.66821562]))\n",
            "Epoch 3: Decision Boundary Line - (array([0.54920045]), array([-23.06145257]))\n",
            "Epoch 4: Decision Boundary Line - (array([1.03737845]), array([-30.22344894]))\n",
            "Epoch 5: Decision Boundary Line - (array([1.97477932]), array([-43.97593572]))\n",
            "Epoch 6: Decision Boundary Line - (array([4.50988616]), array([-81.16816017]))\n",
            "Epoch 7: Decision Boundary Line - (array([36.27933047]), array([-547.25356616]))\n",
            "Epoch 8: Decision Boundary Line - (array([-8.82209914]), array([114.42367083]))\n",
            "Epoch 9: Decision Boundary Line - (array([-4.53969323]), array([51.59704796]))\n",
            "Epoch 10: Decision Boundary Line - (array([-3.28739889]), array([33.22479971]))\n",
            "Epoch 11: Decision Boundary Line - (array([-2.68963092]), array([24.45502317]))\n",
            "Epoch 12: Decision Boundary Line - (array([-2.339562]), array([19.31920736]))\n",
            "Epoch 13: Decision Boundary Line - (array([-2.1096561]), array([15.9462877]))\n",
            "Epoch 14: Decision Boundary Line - (array([-1.94710643]), array([13.56154259]))\n",
            "Epoch 15: Decision Boundary Line - (array([-1.82609469]), array([11.78619501]))\n",
            "Epoch 16: Decision Boundary Line - (array([-1.73250284]), array([10.41312108]))\n",
            "Epoch 17: Decision Boundary Line - (array([-1.5966752]), array([10.03418239]))\n",
            "Epoch 18: Decision Boundary Line - (array([-1.47038611]), array([9.68185486]))\n",
            "Epoch 19: Decision Boundary Line - (array([-1.42555855]), array([8.72741231]))\n",
            "Epoch 20: Decision Boundary Line - (array([-1.32009087]), array([8.45870871]))\n",
            "Epoch 21: Decision Boundary Line - (array([-1.22092358]), array([8.20605683]))\n",
            "Epoch 22: Decision Boundary Line - (array([-1.12750851]), array([7.96806007]))\n",
            "Epoch 23: Decision Boundary Line - (array([-1.11730231]), array([7.30358889]))\n",
            "Epoch 24: Decision Boundary Line - (array([-1.0362907]), array([7.1137852]))\n",
            "Epoch 25: Decision Boundary Line - (array([-0.95938305]), array([6.93359677]))\n"
          ]
        }
      ]
    },
    {
      "cell_type": "code",
      "source": [],
      "metadata": {
        "id": "ZiahXqVOOJQI"
      },
      "execution_count": null,
      "outputs": []
    }
  ]
}